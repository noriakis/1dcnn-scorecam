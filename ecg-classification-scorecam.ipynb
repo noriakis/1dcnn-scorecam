{
 "cells": [
  {
   "cell_type": "code",
   "execution_count": 79,
   "metadata": {},
   "outputs": [
    {
     "name": "stdout",
     "output_type": "stream",
     "text": [
      "2.3.0\n"
     ]
    }
   ],
   "source": [
    "import tensorflow as tf\n",
    "import numpy as np\n",
    "import os\n",
    "import pandas as pd\n",
    "import ast\n",
    "import matplotlib.pyplot as plt\n",
    "from tensorflow.keras import Model\n",
    "import cv2\n",
    "from skimage import transform\n",
    "import plotly.express as px\n",
    "import plotly.graph_objects as go\n",
    "from collections import Counter\n",
    "from sklearn.preprocessing import StandardScaler\n",
    "from sklearn.metrics import confusion_matrix\n",
    "import seaborn as sns\n",
    "from utils import *\n",
    "import random\n",
    "\n",
    "print(tf.__version__)\n",
    "\n",
    "# Output from the original script (example_physionet.py)\n",
    "X = np.load(\"data/X.npy\", allow_pickle=True)\n",
    "Y = np.load(\"data/Y.npy\", allow_pickle=True) # diagnostic superclass"
   ]
  },
  {
   "cell_type": "code",
   "execution_count": 56,
   "metadata": {},
   "outputs": [],
   "source": [
    "# Raw database and scp statements\n",
    "df = pd.read_csv(\"data/ptbxl_database.csv\", index_col=0)\n",
    "df.scp_codes = df.scp_codes.apply(lambda x: ast.literal_eval(x))\n",
    "agg_df = pd.read_csv('data/scp_statements.csv', index_col=0)\n",
    "agg_df = agg_df[agg_df.diagnostic == 1]"
   ]
  },
  {
   "cell_type": "code",
   "execution_count": 5,
   "metadata": {},
   "outputs": [],
   "source": [
    "def aggregate_diagnostic(y_dic):\n",
    "    tmp = []\n",
    "    for key in y_dic.keys():\n",
    "        if key in agg_df.index:\n",
    "            tmp.append(agg_df.loc[key].diagnostic_class)\n",
    "    return list(set(tmp))\n",
    "\n",
    "# Apply diagnostic superclass\n",
    "df['diagnostic_superclass'] = df.scp_codes.apply(aggregate_diagnostic)"
   ]
  },
  {
   "cell_type": "code",
   "execution_count": 6,
   "metadata": {},
   "outputs": [],
   "source": [
    "# Select PVC according to scp_codes, control is those with diagnostic superclass \"NORM\"\n",
    "label = []\n",
    "for i in df.index:\n",
    "    if \"PVC\" in df.loc[i, \"scp_codes\"].keys():\n",
    "        label.append(1)\n",
    "    elif \"PVC\" not in df.loc[i, \"scp_codes\"].keys() and df.loc[i, \"diagnostic_superclass\"]==['NORM']:\n",
    "        label.append(0)\n",
    "    else:\n",
    "        label.append(-1)\n",
    "label = np.asarray(label)"
   ]
  },
  {
   "cell_type": "code",
   "execution_count": 7,
   "metadata": {},
   "outputs": [],
   "source": [
    "X = X[np.where(label!=-1)]\n",
    "Y = Y[np.where(label!=-1)]\n",
    "label = label[np.where(label!=-1)]"
   ]
  },
  {
   "cell_type": "code",
   "execution_count": 8,
   "metadata": {},
   "outputs": [],
   "source": [
    "# Select fold, this time 8\n",
    "X_test = X[np.where(Y[:,-4]==8)]\n",
    "X_train = X[np.where(Y[:,-4]!=8)]\n",
    "Y_test = label[np.where(Y[:,-4]==8)[0]]\n",
    "Y_train = label[np.where(Y[:,-4]!=8)[0]]"
   ]
  },
  {
   "cell_type": "code",
   "execution_count": 11,
   "metadata": {},
   "outputs": [],
   "source": [
    "# Model definition\n",
    "input_layer = tf.keras.layers.Input((1000,12))\n",
    "x = tf.keras.layers.Conv1D(filters=30, kernel_size=10, padding=\"causal\", activation=\"relu\")(input_layer)\n",
    "x = tf.keras.layers.BatchNormalization()(x)\n",
    "x = tf.keras.layers.Conv1D(filters=30, kernel_size=10, padding=\"causal\", activation=\"relu\")(x)\n",
    "x = tf.keras.layers.BatchNormalization()(x)\n",
    "x = tf.keras.layers.Conv1D(filters=20, kernel_size=5, padding=\"causal\", activation=\"relu\")(x)\n",
    "x = tf.keras.layers.BatchNormalization()(x)\n",
    "x = tf.keras.layers.Conv1D(filters=20, kernel_size=5, padding=\"causal\", activation=\"relu\")(x)\n",
    "x = tf.keras.layers.BatchNormalization()(x)\n",
    "x = tf.keras.layers.Conv1D(filters=10, kernel_size=4, padding=\"causal\", activation=\"relu\")(x)\n",
    "x = tf.keras.layers.BatchNormalization()(x)\n",
    "x = tf.keras.layers.Conv1D(filters=10, kernel_size=4, padding=\"causal\", activation=\"relu\")(x)\n",
    "x = tf.keras.layers.BatchNormalization()(x)\n",
    "gap = tf.keras.layers.GlobalAveragePooling1D()(x)\n",
    "output_layer = tf.keras.layers.Dense(1, activation=\"sigmoid\")(gap)\n",
    "model = tf.keras.models.Model(inputs=input_layer, outputs=output_layer)"
   ]
  },
  {
   "cell_type": "code",
   "execution_count": 14,
   "metadata": {},
   "outputs": [],
   "source": [
    "# Set class weights\n",
    "counter = Counter(Y_train)\n",
    "majority = max(counter.values())\n",
    "lw = {cls: float(majority/count) for cls, count in counter.items()}"
   ]
  },
  {
   "cell_type": "code",
   "execution_count": 15,
   "metadata": {},
   "outputs": [],
   "source": [
    "epochs = 100\n",
    "batch_size = 16\n",
    "\n",
    "callbacks = [\n",
    "    tf.keras.callbacks.ModelCheckpoint(\n",
    "        \"best_model_PVC.h5\", save_best_only=True, monitor=\"val_loss\", verbose=1\n",
    "    ),\n",
    "    tf.keras.callbacks.ReduceLROnPlateau(\n",
    "        monitor=\"val_loss\", factor=0.5, patience=2, min_lr=0.0001\n",
    "    ),\n",
    "     tf.keras.callbacks.EarlyStopping(monitor=\"val_loss\", patience=5, verbose=1)\n",
    "]\n",
    "model.compile(\n",
    "    optimizer=\"adam\",\n",
    "    loss=\"binary_crossentropy\",\n",
    "    metrics=[\"binary_crossentropy\",\"accuracy\"],\n",
    ")"
   ]
  },
  {
   "cell_type": "code",
   "execution_count": 16,
   "metadata": {},
   "outputs": [],
   "source": [
    "scaler = StandardScaler()\n",
    "\n",
    "num_instances, num_time_steps, num_features = X_train.shape\n",
    "X_train_reshaped = np.reshape(X_train, (-1, num_features))\n",
    "X_train_scaled = scaler.fit_transform(X_train_reshaped)\n",
    "X_train_scaled = np.reshape(X_train_scaled, (num_instances, num_time_steps, num_features))\n",
    "\n",
    "# Use the same scaler as training\n",
    "num_instances, num_time_steps, num_features = X_test.shape\n",
    "X_test_reshaped = np.reshape(X_test, (-1, num_features))\n",
    "X_test_scaled = scaler.transform(X_test_reshaped)\n",
    "X_test_scaled = np.reshape(X_test_scaled, (num_instances, num_time_steps, num_features))"
   ]
  },
  {
   "cell_type": "code",
   "execution_count": 14,
   "metadata": {},
   "outputs": [
    {
     "data": {
      "text/plain": [
       "((9055, 1000, 12), (9055,), (993, 1000, 12), (993,))"
      ]
     },
     "execution_count": 14,
     "metadata": {},
     "output_type": "execute_result"
    }
   ],
   "source": [
    "# Check shape\n",
    "X_train_scaled.shape, Y_train.shape, X_test_scaled.shape, Y_test.shape"
   ]
  },
  {
   "cell_type": "code",
   "execution_count": 17,
   "metadata": {},
   "outputs": [
    {
     "name": "stdout",
     "output_type": "stream",
     "text": [
      "Epoch 1/100\n",
      "453/453 [==============================] - ETA: 0s - loss: 0.6288 - binary_crossentropy: 0.4326 - accuracy: 0.8415\n",
      "Epoch 00001: val_loss improved from inf to 0.22603, saving model to best_model_PVC.h5\n",
      "453/453 [==============================] - 3s 7ms/step - loss: 0.6288 - binary_crossentropy: 0.4326 - accuracy: 0.8415 - val_loss: 0.2260 - val_binary_crossentropy: 0.2260 - val_accuracy: 0.9608\n",
      "Epoch 2/100\n",
      "453/453 [==============================] - ETA: 0s - loss: 0.4080 - binary_crossentropy: 0.2335 - accuracy: 0.9293\n",
      "Epoch 00002: val_loss improved from 0.22603 to 0.13054, saving model to best_model_PVC.h5\n",
      "453/453 [==============================] - 3s 6ms/step - loss: 0.4080 - binary_crossentropy: 0.2335 - accuracy: 0.9293 - val_loss: 0.1305 - val_binary_crossentropy: 0.1305 - val_accuracy: 0.9663\n",
      "Epoch 3/100\n",
      "444/453 [============================>.] - ETA: 0s - loss: 0.3128 - binary_crossentropy: 0.1693 - accuracy: 0.9575\n",
      "Epoch 00003: val_loss did not improve from 0.13054\n",
      "453/453 [==============================] - 3s 6ms/step - loss: 0.3131 - binary_crossentropy: 0.1688 - accuracy: 0.9575 - val_loss: 0.1542 - val_binary_crossentropy: 0.1542 - val_accuracy: 0.9663\n",
      "Epoch 4/100\n",
      "447/453 [============================>.] - ETA: 0s - loss: 0.2581 - binary_crossentropy: 0.1363 - accuracy: 0.9695\n",
      "Epoch 00004: val_loss did not improve from 0.13054\n",
      "453/453 [==============================] - 3s 6ms/step - loss: 0.2563 - binary_crossentropy: 0.1359 - accuracy: 0.9695 - val_loss: 0.1766 - val_binary_crossentropy: 0.1766 - val_accuracy: 0.9542\n",
      "Epoch 5/100\n",
      "445/453 [============================>.] - ETA: 0s - loss: 0.2002 - binary_crossentropy: 0.1054 - accuracy: 0.9782\n",
      "Epoch 00005: val_loss improved from 0.13054 to 0.09712, saving model to best_model_PVC.h5\n",
      "453/453 [==============================] - 3s 6ms/step - loss: 0.2000 - binary_crossentropy: 0.1051 - accuracy: 0.9782 - val_loss: 0.0971 - val_binary_crossentropy: 0.0971 - val_accuracy: 0.9873\n",
      "Epoch 6/100\n",
      "453/453 [==============================] - ETA: 0s - loss: 0.2156 - binary_crossentropy: 0.1042 - accuracy: 0.9815\n",
      "Epoch 00006: val_loss improved from 0.09712 to 0.08258, saving model to best_model_PVC.h5\n",
      "453/453 [==============================] - 3s 6ms/step - loss: 0.2156 - binary_crossentropy: 0.1042 - accuracy: 0.9815 - val_loss: 0.0826 - val_binary_crossentropy: 0.0826 - val_accuracy: 0.9823\n",
      "Epoch 7/100\n",
      "452/453 [============================>.] - ETA: 0s - loss: 0.1775 - binary_crossentropy: 0.0972 - accuracy: 0.9815\n",
      "Epoch 00007: val_loss did not improve from 0.08258\n",
      "453/453 [==============================] - 3s 6ms/step - loss: 0.1773 - binary_crossentropy: 0.0971 - accuracy: 0.9815 - val_loss: 0.0910 - val_binary_crossentropy: 0.0910 - val_accuracy: 0.9851\n",
      "Epoch 8/100\n",
      "453/453 [==============================] - ETA: 0s - loss: 0.1682 - binary_crossentropy: 0.0879 - accuracy: 0.9841\n",
      "Epoch 00008: val_loss did not improve from 0.08258\n",
      "453/453 [==============================] - 3s 6ms/step - loss: 0.1682 - binary_crossentropy: 0.0879 - accuracy: 0.9841 - val_loss: 0.1204 - val_binary_crossentropy: 0.1204 - val_accuracy: 0.9702\n",
      "Epoch 9/100\n",
      "447/453 [============================>.] - ETA: 0s - loss: 0.1472 - binary_crossentropy: 0.0839 - accuracy: 0.9855\n",
      "Epoch 00009: val_loss improved from 0.08258 to 0.07016, saving model to best_model_PVC.h5\n",
      "453/453 [==============================] - 3s 6ms/step - loss: 0.1461 - binary_crossentropy: 0.0835 - accuracy: 0.9856 - val_loss: 0.0702 - val_binary_crossentropy: 0.0702 - val_accuracy: 0.9895\n",
      "Epoch 10/100\n",
      "446/453 [============================>.] - ETA: 0s - loss: 0.1341 - binary_crossentropy: 0.0768 - accuracy: 0.9858\n",
      "Epoch 00010: val_loss improved from 0.07016 to 0.06546, saving model to best_model_PVC.h5\n",
      "453/453 [==============================] - 3s 6ms/step - loss: 0.1339 - binary_crossentropy: 0.0764 - accuracy: 0.9858 - val_loss: 0.0655 - val_binary_crossentropy: 0.0655 - val_accuracy: 0.9862\n",
      "Epoch 11/100\n",
      "447/453 [============================>.] - ETA: 0s - loss: 0.1360 - binary_crossentropy: 0.0738 - accuracy: 0.9853\n",
      "Epoch 00011: val_loss did not improve from 0.06546\n",
      "453/453 [==============================] - 3s 6ms/step - loss: 0.1354 - binary_crossentropy: 0.0737 - accuracy: 0.9855 - val_loss: 0.0689 - val_binary_crossentropy: 0.0689 - val_accuracy: 0.9873\n",
      "Epoch 12/100\n",
      "450/453 [============================>.] - ETA: 0s - loss: 0.1223 - binary_crossentropy: 0.0663 - accuracy: 0.9874\n",
      "Epoch 00012: val_loss did not improve from 0.06546\n",
      "453/453 [==============================] - 3s 6ms/step - loss: 0.1220 - binary_crossentropy: 0.0663 - accuracy: 0.9874 - val_loss: 0.0665 - val_binary_crossentropy: 0.0665 - val_accuracy: 0.9867\n",
      "Epoch 13/100\n",
      "451/453 [============================>.] - ETA: 0s - loss: 0.1016 - binary_crossentropy: 0.0593 - accuracy: 0.9904\n",
      "Epoch 00013: val_loss improved from 0.06546 to 0.06302, saving model to best_model_PVC.h5\n",
      "453/453 [==============================] - 3s 6ms/step - loss: 0.1014 - binary_crossentropy: 0.0591 - accuracy: 0.9905 - val_loss: 0.0630 - val_binary_crossentropy: 0.0630 - val_accuracy: 0.9873\n",
      "Epoch 14/100\n",
      "450/453 [============================>.] - ETA: 0s - loss: 0.1085 - binary_crossentropy: 0.0604 - accuracy: 0.9897\n",
      "Epoch 00014: val_loss improved from 0.06302 to 0.06157, saving model to best_model_PVC.h5\n",
      "453/453 [==============================] - 3s 6ms/step - loss: 0.1081 - binary_crossentropy: 0.0601 - accuracy: 0.9898 - val_loss: 0.0616 - val_binary_crossentropy: 0.0616 - val_accuracy: 0.9890\n",
      "Epoch 15/100\n",
      "449/453 [============================>.] - ETA: 0s - loss: 0.1046 - binary_crossentropy: 0.0559 - accuracy: 0.9919\n",
      "Epoch 00015: val_loss did not improve from 0.06157\n",
      "453/453 [==============================] - 3s 6ms/step - loss: 0.1053 - binary_crossentropy: 0.0568 - accuracy: 0.9919 - val_loss: 0.0661 - val_binary_crossentropy: 0.0661 - val_accuracy: 0.9856\n",
      "Epoch 16/100\n",
      "444/453 [============================>.] - ETA: 0s - loss: 0.0929 - binary_crossentropy: 0.0530 - accuracy: 0.9914\n",
      "Epoch 00016: val_loss did not improve from 0.06157\n",
      "453/453 [==============================] - 3s 6ms/step - loss: 0.0931 - binary_crossentropy: 0.0533 - accuracy: 0.9914 - val_loss: 0.0669 - val_binary_crossentropy: 0.0669 - val_accuracy: 0.9895\n",
      "Epoch 17/100\n",
      "444/453 [============================>.] - ETA: 0s - loss: 0.0916 - binary_crossentropy: 0.0541 - accuracy: 0.9909\n",
      "Epoch 00017: val_loss did not improve from 0.06157\n",
      "453/453 [==============================] - 3s 6ms/step - loss: 0.0929 - binary_crossentropy: 0.0540 - accuracy: 0.9908 - val_loss: 0.0636 - val_binary_crossentropy: 0.0636 - val_accuracy: 0.9873\n",
      "Epoch 18/100\n",
      "447/453 [============================>.] - ETA: 0s - loss: 0.0924 - binary_crossentropy: 0.0544 - accuracy: 0.9908\n",
      "Epoch 00018: val_loss did not improve from 0.06157\n",
      "453/453 [==============================] - 2s 5ms/step - loss: 0.0918 - binary_crossentropy: 0.0541 - accuracy: 0.9909 - val_loss: 0.0682 - val_binary_crossentropy: 0.0682 - val_accuracy: 0.9867\n",
      "Epoch 19/100\n",
      "453/453 [==============================] - ETA: 0s - loss: 0.0819 - binary_crossentropy: 0.0498 - accuracy: 0.9917\n",
      "Epoch 00019: val_loss did not improve from 0.06157\n",
      "453/453 [==============================] - 2s 5ms/step - loss: 0.0819 - binary_crossentropy: 0.0498 - accuracy: 0.9917 - val_loss: 0.0724 - val_binary_crossentropy: 0.0724 - val_accuracy: 0.9884\n",
      "Epoch 00019: early stopping\n"
     ]
    }
   ],
   "source": [
    "history = model.fit(\n",
    "    X_train_scaled,\n",
    "    Y_train,\n",
    "    class_weight=lw,\n",
    "    batch_size=batch_size,\n",
    "    epochs=epochs,\n",
    "    callbacks=callbacks,\n",
    "    validation_split=0.2,\n",
    "    verbose=1,\n",
    ")"
   ]
  },
  {
   "cell_type": "code",
   "execution_count": 18,
   "metadata": {},
   "outputs": [],
   "source": [
    "model = tf.keras.models.load_model(\"best_model_PVC.h5\")"
   ]
  },
  {
   "cell_type": "code",
   "execution_count": 25,
   "metadata": {},
   "outputs": [
    {
     "name": "stdout",
     "output_type": "stream",
     "text": [
      "32/32 [==============================] - 0s 2ms/step - loss: 0.0295 - binary_crossentropy: 0.0295 - accuracy: 0.9909\n"
     ]
    },
    {
     "data": {
      "text/plain": [
       "[0.029452601447701454, 0.029452601447701454, 0.9909365773200989]"
      ]
     },
     "execution_count": 25,
     "metadata": {},
     "output_type": "execute_result"
    }
   ],
   "source": [
    "model.evaluate(X_test_scaled, Y_test)"
   ]
  },
  {
   "cell_type": "code",
   "execution_count": 26,
   "metadata": {},
   "outputs": [],
   "source": [
    "Y_pred = model(X_test_scaled).numpy()"
   ]
  },
  {
   "cell_type": "code",
   "execution_count": 27,
   "metadata": {},
   "outputs": [],
   "source": [
    "Y_pred_label = (model.predict(X_test_scaled)>0.5).astype(\"int\")[:,0]"
   ]
  },
  {
   "cell_type": "code",
   "execution_count": 32,
   "metadata": {},
   "outputs": [
    {
     "data": {
      "image/png": "[encoded data removed]",
      "text/plain": [
       "<Figure size 432x288 with 2 Axes>"
      ]
     },
     "metadata": {
      "needs_background": "light"
     },
     "output_type": "display_data"
    }
   ],
   "source": [
    "heatmap = sns.heatmap(pd.DataFrame(confusion_matrix(Y_test, Y_pred_label)), annot_kws={\"size\": 16}, annot=True, cmap='Blues', fmt='g')\n",
    "plt.savefig(\"images/cm.png\")"
   ]
  },
  {
   "cell_type": "code",
   "execution_count": 128,
   "metadata": {},
   "outputs": [],
   "source": [
    "# fetch Top-50 probability and pick random number\n",
    "top50 = np.argsort(-Y_pred.squeeze())[0:50]\n",
    "N=top50[random.randint(0,50)]\n",
    "test_array = X_test_scaled[N]\n",
    "cam_input = np.expand_dims(test_array, 0)\n",
    "prediction = model(cam_input).numpy()"
   ]
  },
  {
   "cell_type": "code",
   "execution_count": 129,
   "metadata": {},
   "outputs": [],
   "source": [
    "# Score-CAM\n",
    "## The implementation was derived from https://github.com/tabayashi0117/Score-CAM and modified under MIT license\n",
    "\n",
    "act_map_model = Model(inputs=model.input, outputs=model.get_layer([i.name for i in model.layers if \"conv\" in i.name][-1]).output)\n",
    "act_map_array = act_map_model(cam_input)\n",
    "act_map_resized_list = [\n",
    "    transform.resize(act_map_array[0,:,k], (1000,1)) for k in range(act_map_array.shape[2])\n",
    "]\n",
    "\n",
    "act_map_normalized_list = []\n",
    "for act_map_resized in act_map_resized_list:\n",
    "    if np.max(act_map_resized) - np.min(act_map_resized) != 0:\n",
    "        act_map_normalized = act_map_resized / (np.max(act_map_resized) - np.min(act_map_resized))\n",
    "    else:\n",
    "        act_map_normalized = act_map_resized\n",
    "    act_map_normalized_list.append(act_map_normalized)\n",
    "        \n",
    "masked_input_list = []\n",
    "for act_map_normalized in act_map_normalized_list:\n",
    "    masked_input = np.copy(cam_input).astype(\"float64\")\n",
    "    for k in range(cam_input.shape[2]):\n",
    "        masked_input[0,:,k] *= np.squeeze(act_map_normalized)\n",
    "    masked_input_list.append(masked_input)\n",
    "masked_input_array = np.concatenate(masked_input_list, axis=0)\n",
    "weight = model.predict(masked_input_array)\n",
    "\n",
    "cam = np.dot(act_map_array[0,:,:], weight)\n",
    "cam = transform.resize(cam, (1000,))\n",
    "cam = np.maximum(0, cam)\n",
    "cam /= np.max(cam)"
   ]
  },
  {
   "cell_type": "code",
   "execution_count": 130,
   "metadata": {},
   "outputs": [],
   "source": [
    "cam_90 = cam.squeeze().copy()\n",
    "q_90 = np.quantile(cam_90, 0.9)\n",
    "cam_90 = (cam_90>q_90).astype(\"int\")"
   ]
  },
  {
   "cell_type": "code",
   "execution_count": 140,
   "metadata": {},
   "outputs": [],
   "source": [
    "raw_input = X_test[N]\n",
    "# Specify time interval and channel to visualize\n",
    "S=0\n",
    "E=400\n",
    "C=8\n",
    "title=\"Correct class: \"+str(Y_test[N])+\", Prediction probability: \"+str(prediction[0][0])+\", Time interval: \"+str(S)+\" to \"+str(E)+\", Channel: \"+str(C)"
   ]
  },
  {
   "cell_type": "code",
   "execution_count": 141,
   "metadata": {},
   "outputs": [
    {
     "data": {
      "application/vnd.plotly.v1+json": {
       "config": {
        "plotlyServerURL": "https://plot.ly"
       },
       "data": [
        {
         "mode": "lines",
         "name": "Raw signal",
         "type": "scatter",
         "x": [
          0,
          1,
          2,
          3,
          4,
          5,
          6,
          7,
          8,
          9,
          10,
          11,
          12,
          13,
          14,
          15,
          16,
          17,
          18,
          19,
          20,
          21,
          22,
          23,
          24,
          25,
          26,
          27,
          28,
          29,
          30,
          31,
          32,
          33,
          34,
          35,
          36,
          37,
          38,
          39,
          40,
          41,
          42,
          43,
          44,
          45,
          46,
          47,
          48,
          49,
          50,
          51,
          52,
          53,
          54,
          55,
          56,
          57,
          58,
          59,
          60,
          61,
          62,
          63,
          64,
          65,
          66,
          67,
          68,
          69,
          70,
          71,
          72,
          73,
          74,
          75,
          76,
          77,
          78,
          79,
          80,
          81,
          82,
          83,
          84,
          85,
          86,
          87,
          88,
          89,
          90,
          91,
          92,
          93,
          94,
          95,
          96,
          97,
          98,
          99,
          100,
          101,
          102,
          103,
          104,
          105,
          106,
          107,
          108,
          109,
          110,
          111,
          112,
          113,
          114,
          115,
          116,
          117,
          118,
          119,
          120,
          121,
          122,
          123,
          124,
          125,
          126,
          127,
          128,
          129,
          130,
          131,
          132,
          133,
          134,
          135,
          136,
          137,
          138,
          139,
          140,
          141,
          142,
          143,
          144,
          145,
          146,
          147,
          148,
          149,
          150,
          151,
          152,
          153,
          154,
          155,
          156,
          157,
          158,
          159,
          160,
          161,
          162,
          163,
          164,
          165,
          166,
          167,
          168,
          169,
          170,
          171,
          172,
          173,
          174,
          175,
          176,
          177,
          178,
          179,
          180,
          181,
          182,
          183,
          184,
          185,
          186,
          187,
          188,
          189,
          190,
          191,
          192,
          193,
          194,
          195,
          196,
          197,
          198,
          199,
          200,
          201,
          202,
          203,
          204,
          205,
          206,
          207,
          208,
          209,
          210,
          211,
          212,
          213,
          214,
          215,
          216,
          217,
          218,
          219,
          220,
          221,
          222,
          223,
          224,
          225,
          226,
          227,
          228,
          229,
          230,
          231,
          232,
          233,
          234,
          235,
          236,
          237,
          238,
          239,
          240,
          241,
          242,
          243,
          244,
          245,
          246,
          247,
          248,
          249,
          250,
          251,
          252,
          253,
          254,
          255,
          256,
          257,
          258,
          259,
          260,
          261,
          262,
          263,
          264,
          265,
          266,
          267,
          268,
          269,
          270,
          271,
          272,
          273,
          274,
          275,
          276,
          277,
          278,
          279,
          280,
          281,
          282,
          283,
          284,
          285,
          286,
          287,
          288,
          289,
          290,
          291,
          292,
          293,
          294,
          295,
          296,
          297,
          298,
          299,
          300,
          301,
          302,
          303,
          304,
          305,
          306,
          307,
          308,
          309,
          310,
          311,
          312,
          313,
          314,
          315,
          316,
          317,
          318,
          319,
          320,
          321,
          322,
          323,
          324,
          325,
          326,
          327,
          328,
          329,
          330,
          331,
          332,
          333,
          334,
          335,
          336,
          337,
          338,
          339,
          340,
          341,
          342,
          343,
          344,
          345,
          346,
          347,
          348,
          349,
          350,
          351,
          352,
          353,
          354,
          355,
          356,
          357,
          358,
          359,
          360,
          361,
          362,
          363,
          364,
          365,
          366,
          367,
          368,
          369,
          370,
          371,
          372,
          373,
          374,
          375,
          376,
          377,
          378,
          379,
          380,
          381,
          382,
          383,
          384,
          385,
          386,
          387,
          388,
          389,
          390,
          391,
          392,
          393,
          394,
          395,
          396,
          397,
          398,
          399
         ],
         "y": [
          0.024,
          0.026,
          0.024,
          0.02,
          0.02,
          0.034,
          0.086,
          0.139,
          0.256,
          0.289,
          0.442,
          0.656,
          0.818,
          1.421,
          1.138,
          0.138,
          -0.038,
          -0.068,
          -0.092,
          -0.063,
          -0.085,
          -0.068,
          -0.127,
          -0.139,
          -0.147,
          -0.161,
          -0.18,
          -0.188,
          -0.195,
          -0.222,
          -0.236,
          -0.265,
          -0.292,
          -0.315,
          -0.354,
          -0.383,
          -0.404,
          -0.426,
          -0.422,
          -0.381,
          -0.328,
          -0.266,
          -0.181,
          -0.106,
          -0.05,
          -0.011,
          0.002,
          0.006,
          0.011,
          0.015,
          0.02,
          0.016,
          0.015,
          0.015,
          0.015,
          0.015,
          0.016,
          0.025,
          0.027,
          0.024,
          0.022,
          0.018,
          0.016,
          0.014,
          0.01,
          0.01,
          0.01,
          0.01,
          0.01,
          0.006,
          0.005,
          0.005,
          0.001,
          -0.001,
          0.002,
          0.005,
          0.005,
          0.005,
          0.005,
          0.005,
          0.001,
          0,
          0,
          -0.005,
          -0.005,
          -0.005,
          -0.005,
          -0.005,
          -0.005,
          -0.005,
          -0.009,
          -0.017,
          -0.019,
          -0.015,
          -0.015,
          -0.015,
          -0.015,
          -0.016,
          -0.011,
          -0.004,
          0.002,
          0.009,
          0.016,
          0.019,
          0.006,
          -0.01,
          -0.02,
          -0.037,
          -0.022,
          -0.038,
          -0.017,
          -0.031,
          -0.022,
          -0.013,
          -0.036,
          0.084,
          0.146,
          0.541,
          0.169,
          -0.606,
          -0.242,
          -0.046,
          -0.072,
          -0.031,
          -0.062,
          -0.026,
          -0.046,
          -0.025,
          -0.03,
          -0.022,
          -0.016,
          -0.015,
          -0.006,
          -0.006,
          0.002,
          0.006,
          0.017,
          0.024,
          0.033,
          0.055,
          0.07,
          0.092,
          0.108,
          0.123,
          0.133,
          0.129,
          0.146,
          0.162,
          0.169,
          0.148,
          0.101,
          0.061,
          0.019,
          -0.012,
          -0.019,
          -0.029,
          -0.034,
          -0.029,
          -0.031,
          -0.027,
          -0.025,
          -0.025,
          -0.021,
          -0.02,
          -0.02,
          -0.016,
          -0.014,
          -0.017,
          -0.019,
          -0.024,
          -0.023,
          -0.037,
          -0.061,
          -0.059,
          -0.061,
          -0.065,
          -0.065,
          -0.063,
          -0.056,
          -0.052,
          -0.045,
          -0.04,
          -0.036,
          -0.027,
          -0.021,
          -0.007,
          -0.013,
          -0.033,
          -0.055,
          -0.046,
          -0.054,
          -0.056,
          -0.049,
          -0.064,
          -0.019,
          -0.056,
          0.06,
          0.093,
          0.411,
          0.482,
          -0.457,
          -0.463,
          -0.056,
          -0.088,
          -0.016,
          -0.049,
          -0.024,
          -0.027,
          -0.025,
          -0.012,
          -0.019,
          -0.028,
          -0.037,
          -0.024,
          -0.025,
          -0.017,
          -0.008,
          0.004,
          0.022,
          0.04,
          0.052,
          0.081,
          0.111,
          0.132,
          0.151,
          0.178,
          0.199,
          0.191,
          0.183,
          0.172,
          0.136,
          0.094,
          0.058,
          0.02,
          -0.016,
          -0.043,
          -0.053,
          -0.044,
          -0.004,
          0.035,
          0.128,
          0.286,
          0.434,
          0.677,
          0.792,
          0.993,
          1.037,
          0.318,
          -0.072,
          -0.081,
          -0.186,
          -0.148,
          -0.154,
          -0.113,
          -0.084,
          -0.112,
          -0.125,
          -0.136,
          -0.16,
          -0.187,
          -0.196,
          -0.214,
          -0.217,
          -0.238,
          -0.261,
          -0.269,
          -0.289,
          -0.307,
          -0.305,
          -0.288,
          -0.256,
          -0.204,
          -0.142,
          -0.077,
          -0.035,
          -0.02,
          -0.012,
          -0.008,
          -0.003,
          0.002,
          0.005,
          0,
          -0.005,
          -0.008,
          -0.015,
          -0.01,
          -0.003,
          -0.015,
          -0.026,
          -0.038,
          -0.045,
          -0.044,
          -0.047,
          -0.045,
          -0.045,
          -0.044,
          -0.04,
          -0.04,
          -0.038,
          -0.035,
          -0.032,
          -0.029,
          -0.025,
          -0.025,
          -0.031,
          -0.029,
          -0.026,
          -0.023,
          -0.02,
          -0.019,
          -0.015,
          -0.013,
          -0.009,
          -0.007,
          -0.004,
          -0.009,
          -0.016,
          -0.02,
          -0.021,
          -0.017,
          -0.036,
          -0.035,
          -0.015,
          -0.014,
          -0.011,
          -0.008,
          -0.005,
          -0.005,
          0.007,
          0.012,
          0.006,
          0.005,
          0,
          -0.001,
          -0.004,
          -0.009,
          -0.012,
          -0.015,
          -0.02,
          -0.017,
          -0.015,
          -0.015,
          -0.015,
          -0.034,
          -0.041,
          -0.032,
          -0.025,
          -0.021,
          -0.009,
          0,
          -0.004,
          -0.02,
          -0.041,
          -0.03,
          -0.026,
          -0.012,
          -0.063,
          -0.028,
          -0.046,
          0.005,
          0.08,
          0.177,
          0.525,
          -0.145,
          -0.599,
          -0.137,
          -0.101,
          -0.058,
          -0.055,
          -0.065,
          -0.043,
          -0.061,
          -0.04,
          -0.052,
          -0.038,
          -0.042,
          -0.036,
          -0.034,
          -0.032,
          -0.019,
          -0.011,
          0,
          0.01,
          0.015,
          0.03,
          0.051,
          0.066,
          0.08,
          0.1,
          0.121,
          0.127,
          0.133,
          0.128,
          0.118,
          0.11,
          0.1,
          0.087,
          0.05,
          0.027,
          0.024
         ]
        },
        {
         "marker": {
          "size": 4
         },
         "mode": "lines+markers",
         "name": "Raw CAM",
         "type": "scatter",
         "x": [
          0,
          1,
          2,
          3,
          4,
          5,
          6,
          7,
          8,
          9,
          10,
          11,
          12,
          13,
          14,
          15,
          16,
          17,
          18,
          19,
          20,
          21,
          22,
          23,
          24,
          25,
          26,
          27,
          28,
          29,
          30,
          31,
          32,
          33,
          34,
          35,
          36,
          37,
          38,
          39,
          40,
          41,
          42,
          43,
          44,
          45,
          46,
          47,
          48,
          49,
          50,
          51,
          52,
          53,
          54,
          55,
          56,
          57,
          58,
          59,
          60,
          61,
          62,
          63,
          64,
          65,
          66,
          67,
          68,
          69,
          70,
          71,
          72,
          73,
          74,
          75,
          76,
          77,
          78,
          79,
          80,
          81,
          82,
          83,
          84,
          85,
          86,
          87,
          88,
          89,
          90,
          91,
          92,
          93,
          94,
          95,
          96,
          97,
          98,
          99,
          100,
          101,
          102,
          103,
          104,
          105,
          106,
          107,
          108,
          109,
          110,
          111,
          112,
          113,
          114,
          115,
          116,
          117,
          118,
          119,
          120,
          121,
          122,
          123,
          124,
          125,
          126,
          127,
          128,
          129,
          130,
          131,
          132,
          133,
          134,
          135,
          136,
          137,
          138,
          139,
          140,
          141,
          142,
          143,
          144,
          145,
          146,
          147,
          148,
          149,
          150,
          151,
          152,
          153,
          154,
          155,
          156,
          157,
          158,
          159,
          160,
          161,
          162,
          163,
          164,
          165,
          166,
          167,
          168,
          169,
          170,
          171,
          172,
          173,
          174,
          175,
          176,
          177,
          178,
          179,
          180,
          181,
          182,
          183,
          184,
          185,
          186,
          187,
          188,
          189,
          190,
          191,
          192,
          193,
          194,
          195,
          196,
          197,
          198,
          199,
          200,
          201,
          202,
          203,
          204,
          205,
          206,
          207,
          208,
          209,
          210,
          211,
          212,
          213,
          214,
          215,
          216,
          217,
          218,
          219,
          220,
          221,
          222,
          223,
          224,
          225,
          226,
          227,
          228,
          229,
          230,
          231,
          232,
          233,
          234,
          235,
          236,
          237,
          238,
          239,
          240,
          241,
          242,
          243,
          244,
          245,
          246,
          247,
          248,
          249,
          250,
          251,
          252,
          253,
          254,
          255,
          256,
          257,
          258,
          259,
          260,
          261,
          262,
          263,
          264,
          265,
          266,
          267,
          268,
          269,
          270,
          271,
          272,
          273,
          274,
          275,
          276,
          277,
          278,
          279,
          280,
          281,
          282,
          283,
          284,
          285,
          286,
          287,
          288,
          289,
          290,
          291,
          292,
          293,
          294,
          295,
          296,
          297,
          298,
          299,
          300,
          301,
          302,
          303,
          304,
          305,
          306,
          307,
          308,
          309,
          310,
          311,
          312,
          313,
          314,
          315,
          316,
          317,
          318,
          319,
          320,
          321,
          322,
          323,
          324,
          325,
          326,
          327,
          328,
          329,
          330,
          331,
          332,
          333,
          334,
          335,
          336,
          337,
          338,
          339,
          340,
          341,
          342,
          343,
          344,
          345,
          346,
          347,
          348,
          349,
          350,
          351,
          352,
          353,
          354,
          355,
          356,
          357,
          358,
          359,
          360,
          361,
          362,
          363,
          364,
          365,
          366,
          367,
          368,
          369,
          370,
          371,
          372,
          373,
          374,
          375,
          376,
          377,
          378,
          379,
          380,
          381,
          382,
          383,
          384,
          385,
          386,
          387,
          388,
          389,
          390,
          391,
          392,
          393,
          394,
          395,
          396,
          397,
          398,
          399
         ],
         "y": [
          0.020256854593753815,
          0.03474457189440727,
          0.021439246833324432,
          0.027163216844201088,
          0.02248239330947399,
          0.05176008120179176,
          0.04209141060709953,
          0.04212680086493492,
          0.036212604492902756,
          0.03971032425761223,
          0.05339965224266052,
          0.0705433115363121,
          0.08119972795248032,
          0.07195248454809189,
          0.05093762278556824,
          0.08901378512382507,
          0.20090699195861816,
          0.3339308500289917,
          0.41859328746795654,
          0.46009019017219543,
          0.5047163367271423,
          0.5585027933120728,
          0.663582444190979,
          0.7802262306213379,
          0.8348401188850403,
          0.8247156143188477,
          0.8031734228134155,
          0.7889806628227234,
          0.777290403842926,
          0.7762030959129333,
          0.8141583204269409,
          0.8381265997886658,
          0.8604974746704102,
          0.8067120313644409,
          0.7299841046333313,
          0.6554327607154846,
          0.5596470832824707,
          0.49581068754196167,
          0.4843858778476715,
          0.46148884296417236,
          0.46882787346839905,
          0.45516979694366455,
          0.425913006067276,
          0.3417884409427643,
          0.2491389662027359,
          0.1840798705816269,
          0.15934762358665466,
          0.1633877158164978,
          0.1755800098180771,
          0.18020647764205933,
          0.17704609036445618,
          0.17942538857460022,
          0.16903087496757507,
          0.12961828708648682,
          0.07863904535770416,
          0.03272390365600586,
          0.014837125316262245,
          0.028733501210808754,
          0.02528809942305088,
          0.005360864102840424,
          0.0006725707789883018,
          0,
          0,
          0.0272501353174448,
          0.09200485795736313,
          0.1341642141342163,
          0.13744302093982697,
          0.10076828300952911,
          0.05120006203651428,
          0.0194853488355875,
          0.03370887413620949,
          0.044987160712480545,
          0.052040763199329376,
          0.05707502365112305,
          0.06054248660802841,
          0.06309743225574493,
          0.06461846828460693,
          0.0653410479426384,
          0.06521414965391159,
          0.06409118324518204,
          0.062216199934482574,
          0.05965234711766243,
          0.056609589606523514,
          0.05360876023769379,
          0.05162287503480911,
          0.05064186826348305,
          0.04997819662094116,
          0.04956130310893059,
          0.0489991120994091,
          0.04822138696908951,
          0.04847758635878563,
          0.0488898791372776,
          0.04912955313920975,
          0.05042858421802521,
          0.052507251501083374,
          0.05562111362814903,
          0.06018465757369995,
          0.0647323876619339,
          0.06877043098211288,
          0.07142461091279984,
          0.07260192930698395,
          0.07250727713108063,
          0.07157954573631287,
          0.07032910734415054,
          0.06906694173812866,
          0.06795348227024078,
          0.06687331944704056,
          0.06551405787467957,
          0.06334631145000458,
          0.060143131762742996,
          0.05630504712462425,
          0.051859188824892044,
          0.047000542283058167,
          0.04332112893462181,
          0.0419062003493309,
          0.042921315878629684,
          0.0456993505358696,
          0.04764913395047188,
          0.04146786034107208,
          0.02356230840086937,
          0.003542374586686492,
          0.030699336901307106,
          0.07911704480648041,
          0.05812666565179825,
          0.020053541287779808,
          0.026584966108202934,
          0.029753586277365685,
          0.006120229605585337,
          0,
          0,
          0,
          0.0052037229761481285,
          0.01163258496671915,
          0.06603892147541046,
          0.0761212557554245,
          0.07381032407283783,
          0.06340686231851578,
          0.04228343069553375,
          0.017872121185064316,
          0.004268748685717583,
          0.004156719893217087,
          0.004300730302929878,
          0.0032953207846730947,
          0.0023439498618245125,
          0.06367845088243484,
          0.08997947722673416,
          0.06313294917345047,
          0.032894909381866455,
          0.01972915418446064,
          0.020963657647371292,
          0.020309830084443092,
          0.02142893709242344,
          0.024738427251577377,
          0.027243752032518387,
          0.02797226421535015,
          0.02930177003145218,
          0.03306124359369278,
          0.03394768387079239,
          0.030794654041528702,
          0.028765590861439705,
          0.02586168795824051,
          0.0226307213306427,
          0.01513099204748869,
          0.020101962611079216,
          0.03691568598151207,
          0.05313108116388321,
          0.06411366909742355,
          0.07289101183414459,
          0.08063019067049026,
          0.08920011669397354,
          0.09675817936658859,
          0.09922342747449875,
          0.09897765517234802,
          0.09491419792175293,
          0.085472971200943,
          0.07278331369161606,
          0.06416554003953934,
          0.05588918924331665,
          0.059322599321603775,
          0.05387396737933159,
          0.05067965015769005,
          0.04823673143982887,
          0.04186061769723892,
          0.037157393991947174,
          0.032442837953567505,
          0.02922956459224224,
          0.029608923941850662,
          0.03490690141916275,
          0.03830219432711601,
          0.03994854912161827,
          0.04126397520303726,
          0.042558956891298294,
          0.04349552094936371,
          0.04439505934715271,
          0.04486820846796036,
          0.04471550136804581,
          0.0424376055598259,
          0.04008512943983078,
          0.03772870823740959,
          0.03121981956064701,
          0.017795836552977562,
          0.007690568454563618,
          0.027378516271710396,
          0.05199793353676796,
          0.03680509328842163,
          0.017850926145911217,
          0.029972581192851067,
          0.03590058162808418,
          0.025943344458937645,
          0.003717204788699746,
          0,
          0.0022724431473761797,
          0.0002873465127777308,
          0.0010449999244883657,
          0.06971157342195511,
          0.07909885048866272,
          0.07641653716564178,
          0.07536514848470688,
          0.047462426126003265,
          0.02646193467080593,
          0.0076524075120687485,
          0.00540452916175127,
          0.007176368962973356,
          0.009041217155754566,
          0.0019325108733028173,
          0.01911964640021324,
          0.07249242067337036,
          0.06764855980873108,
          0.05476837977766991,
          0.056486353278160095,
          0.06947330385446548,
          0.08131497353315353,
          0.08724887669086456,
          0.08922017365694046,
          0.0927167609333992,
          0.09502463787794113,
          0.09594924747943878,
          0.09377708286046982,
          0.08681919425725937,
          0.07660024613142014,
          0.061613503843545914,
          0.045348674058914185,
          0.031536225229501724,
          0.018481511622667313,
          0.0017019693041220307,
          0.020868975669145584,
          0.08605857938528061,
          0.22862203419208527,
          0.36545026302337646,
          0.4577803909778595,
          0.5124417543411255,
          0.5161398649215698,
          0.5517079830169678,
          0.6607925295829773,
          0.7872187495231628,
          0.9126938581466675,
          0.9497202634811401,
          0.9377251267433167,
          0.9029111862182617,
          0.8704876899719238,
          0.878086268901825,
          0.8704882264137268,
          0.8849726915359497,
          0.8662377595901489,
          0.8582366108894348,
          0.7927864789962769,
          0.7025955319404602,
          0.6117026209831238,
          0.5045880675315857,
          0.39881688356399536,
          0.3763359487056732,
          0.3558163046836853,
          0.3573114275932312,
          0.39750704169273376,
          0.3948284983634949,
          0.34603744745254517,
          0.24803079664707184,
          0.17516149580478668,
          0.1357990950345993,
          0.11982949823141098,
          0.11695639789104462,
          0.11996052414178848,
          0.11120575666427612,
          0.09782510995864868,
          0.07584331184625626,
          0.06076621636748314,
          0.06441241502761841,
          0.07799294590950012,
          0.0749206393957138,
          0.059193868190050125,
          0.037893954664468765,
          0.016431258991360664,
          0.0013933279551565647,
          0.015024734660983086,
          0.06634661555290222,
          0.10382287949323654,
          0.10709451884031296,
          0.0780116617679596,
          0.036772508174180984,
          0.01303301565349102,
          0.016465462744235992,
          0.021702226251363754,
          0.026923982426524162,
          0.03093060664832592,
          0.033800266683101654,
          0.03677358105778694,
          0.03947983309626579,
          0.04274430871009827,
          0.04687339439988136,
          0.051531560719013214,
          0.05588410422205925,
          0.05933137238025665,
          0.06156535819172859,
          0.06290750205516815,
          0.06400807946920395,
          0.06436683982610703,
          0.06523403525352478,
          0.06694614142179489,
          0.06876273453235626,
          0.06910697370767593,
          0.06792482733726501,
          0.06588389724493027,
          0.062499478459358215,
          0.05847584828734398,
          0.05487874150276184,
          0.050655022263526917,
          0.04634921997785568,
          0.04387602210044861,
          0.0421539768576622,
          0.042011748999357224,
          0.043129533529281616,
          0.04501310735940933,
          0.047051914036273956,
          0.04877743497490883,
          0.04992479830980301,
          0.05002028867602348,
          0.04964948073029518,
          0.048224300146102905,
          0.04660681635141373,
          0.04443882033228874,
          0.04195430129766464,
          0.038832440972328186,
          0.03551310673356056,
          0.03240523487329483,
          0.03201305866241455,
          0.03269116207957268,
          0.03379325941205025,
          0.03610450401902199,
          0.03838871046900749,
          0.04072567820549011,
          0.043152231723070145,
          0.04537561535835266,
          0.0473792664706707,
          0.04902998358011246,
          0.05028093606233597,
          0.05054234713315964,
          0.04985601082444191,
          0.0484333373606205,
          0.04709738492965698,
          0.04612342640757561,
          0.045840922743082047,
          0.04700033366680145,
          0.04614647105336189,
          0.02825673669576645,
          0.014823379926383495,
          0.034547366201877594,
          0.08533336222171783,
          0.09819859266281128,
          0.06673716753721237,
          0.04812026768922806,
          0.02901865541934967,
          0.02901085838675499,
          0.008501320146024227,
          0,
          0.000955070136114955,
          0,
          0.0037830043584108353,
          0.048673391342163086,
          0.07314921915531158,
          0.07769065350294113,
          0.07689978927373886,
          0.055833037942647934,
          0.037222910672426224,
          0.014798512682318687,
          0.006009506527334452,
          0.0038672899827361107,
          0.004673538263887167,
          0.017449691891670227,
          0.06883712112903595,
          0.1122918576002121,
          0.10568873584270477,
          0.07280899584293365,
          0.0403410866856575,
          0.03713974356651306,
          0.05006279796361923,
          0.05924483388662338,
          0.06932983547449112,
          0.07883060723543167,
          0.08505913615226746,
          0.08920097351074219
         ]
        }
       ],
       "layout": {
        "font": {
         "size": 20
        },
        "height": 700,
        "paper_bgcolor": "rgba(0,0,0,0)",
        "plot_bgcolor": "rgba(0,0,0,0)",
        "shapes": [
         {
          "fillcolor": "pink",
          "layer": "below",
          "line": {
           "width": 0
          },
          "opacity": 0.5,
          "type": "rect",
          "x0": 20,
          "x1": 37,
          "xref": "x",
          "y0": -1.225,
          "y1": 2.72,
          "yref": "y"
         },
         {
          "fillcolor": "pink",
          "layer": "below",
          "line": {
           "width": 0
          },
          "opacity": 0.5,
          "type": "rect",
          "x0": 250,
          "x1": 268,
          "xref": "x",
          "y0": -1.225,
          "y1": 2.72,
          "yref": "y"
         }
        ],
        "template": {
         "data": {
          "bar": [
           {
            "error_x": {
             "color": "#2a3f5f"
            },
            "error_y": {
             "color": "#2a3f5f"
            },
            "marker": {
             "line": {
              "color": "#E5ECF6",
              "width": 0.5
             }
            },
            "type": "bar"
           }
          ],
          "barpolar": [
           {
            "marker": {
             "line": {
              "color": "#E5ECF6",
              "width": 0.5
             }
            },
            "type": "barpolar"
           }
          ],
          "carpet": [
           {
            "aaxis": {
             "endlinecolor": "#2a3f5f",
             "gridcolor": "white",
             "linecolor": "white",
             "minorgridcolor": "white",
             "startlinecolor": "#2a3f5f"
            },
            "baxis": {
             "endlinecolor": "#2a3f5f",
             "gridcolor": "white",
             "linecolor": "white",
             "minorgridcolor": "white",
             "startlinecolor": "#2a3f5f"
            },
            "type": "carpet"
           }
          ],
          "choropleth": [
           {
            "colorbar": {
             "outlinewidth": 0,
             "ticks": ""
            },
            "type": "choropleth"
           }
          ],
          "contour": [
           {
            "colorbar": {
             "outlinewidth": 0,
             "ticks": ""
            },
            "colorscale": [
             [
              0,
              "#0d0887"
             ],
             [
              0.1111111111111111,
              "#46039f"
             ],
             [
              0.2222222222222222,
              "#7201a8"
             ],
             [
              0.3333333333333333,
              "#9c179e"
             ],
             [
              0.4444444444444444,
              "#bd3786"
             ],
             [
              0.5555555555555556,
              "#d8576b"
             ],
             [
              0.6666666666666666,
              "#ed7953"
             ],
             [
              0.7777777777777778,
              "#fb9f3a"
             ],
             [
              0.8888888888888888,
              "#fdca26"
             ],
             [
              1,
              "#f0f921"
             ]
            ],
            "type": "contour"
           }
          ],
          "contourcarpet": [
           {
            "colorbar": {
             "outlinewidth": 0,
             "ticks": ""
            },
            "type": "contourcarpet"
           }
          ],
          "heatmap": [
           {
            "colorbar": {
             "outlinewidth": 0,
             "ticks": ""
            },
            "colorscale": [
             [
              0,
              "#0d0887"
             ],
             [
              0.1111111111111111,
              "#46039f"
             ],
             [
              0.2222222222222222,
              "#7201a8"
             ],
             [
              0.3333333333333333,
              "#9c179e"
             ],
             [
              0.4444444444444444,
              "#bd3786"
             ],
             [
              0.5555555555555556,
              "#d8576b"
             ],
             [
              0.6666666666666666,
              "#ed7953"
             ],
             [
              0.7777777777777778,
              "#fb9f3a"
             ],
             [
              0.8888888888888888,
              "#fdca26"
             ],
             [
              1,
              "#f0f921"
             ]
            ],
            "type": "heatmap"
           }
          ],
          "heatmapgl": [
           {
            "colorbar": {
             "outlinewidth": 0,
             "ticks": ""
            },
            "colorscale": [
             [
              0,
              "#0d0887"
             ],
             [
              0.1111111111111111,
              "#46039f"
             ],
             [
              0.2222222222222222,
              "#7201a8"
             ],
             [
              0.3333333333333333,
              "#9c179e"
             ],
             [
              0.4444444444444444,
              "#bd3786"
             ],
             [
              0.5555555555555556,
              "#d8576b"
             ],
             [
              0.6666666666666666,
              "#ed7953"
             ],
             [
              0.7777777777777778,
              "#fb9f3a"
             ],
             [
              0.8888888888888888,
              "#fdca26"
             ],
             [
              1,
              "#f0f921"
             ]
            ],
            "type": "heatmapgl"
           }
          ],
          "histogram": [
           {
            "marker": {
             "colorbar": {
              "outlinewidth": 0,
              "ticks": ""
             }
            },
            "type": "histogram"
           }
          ],
          "histogram2d": [
           {
            "colorbar": {
             "outlinewidth": 0,
             "ticks": ""
            },
            "colorscale": [
             [
              0,
              "#0d0887"
             ],
             [
              0.1111111111111111,
              "#46039f"
             ],
             [
              0.2222222222222222,
              "#7201a8"
             ],
             [
              0.3333333333333333,
              "#9c179e"
             ],
             [
              0.4444444444444444,
              "#bd3786"
             ],
             [
              0.5555555555555556,
              "#d8576b"
             ],
             [
              0.6666666666666666,
              "#ed7953"
             ],
             [
              0.7777777777777778,
              "#fb9f3a"
             ],
             [
              0.8888888888888888,
              "#fdca26"
             ],
             [
              1,
              "#f0f921"
             ]
            ],
            "type": "histogram2d"
           }
          ],
          "histogram2dcontour": [
           {
            "colorbar": {
             "outlinewidth": 0,
             "ticks": ""
            },
            "colorscale": [
             [
              0,
              "#0d0887"
             ],
             [
              0.1111111111111111,
              "#46039f"
             ],
             [
              0.2222222222222222,
              "#7201a8"
             ],
             [
              0.3333333333333333,
              "#9c179e"
             ],
             [
              0.4444444444444444,
              "#bd3786"
             ],
             [
              0.5555555555555556,
              "#d8576b"
             ],
             [
              0.6666666666666666,
              "#ed7953"
             ],
             [
              0.7777777777777778,
              "#fb9f3a"
             ],
             [
              0.8888888888888888,
              "#fdca26"
             ],
             [
              1,
              "#f0f921"
             ]
            ],
            "type": "histogram2dcontour"
           }
          ],
          "mesh3d": [
           {
            "colorbar": {
             "outlinewidth": 0,
             "ticks": ""
            },
            "type": "mesh3d"
           }
          ],
          "parcoords": [
           {
            "line": {
             "colorbar": {
              "outlinewidth": 0,
              "ticks": ""
             }
            },
            "type": "parcoords"
           }
          ],
          "pie": [
           {
            "automargin": true,
            "type": "pie"
           }
          ],
          "scatter": [
           {
            "marker": {
             "colorbar": {
              "outlinewidth": 0,
              "ticks": ""
             }
            },
            "type": "scatter"
           }
          ],
          "scatter3d": [
           {
            "line": {
             "colorbar": {
              "outlinewidth": 0,
              "ticks": ""
             }
            },
            "marker": {
             "colorbar": {
              "outlinewidth": 0,
              "ticks": ""
             }
            },
            "type": "scatter3d"
           }
          ],
          "scattercarpet": [
           {
            "marker": {
             "colorbar": {
              "outlinewidth": 0,
              "ticks": ""
             }
            },
            "type": "scattercarpet"
           }
          ],
          "scattergeo": [
           {
            "marker": {
             "colorbar": {
              "outlinewidth": 0,
              "ticks": ""
             }
            },
            "type": "scattergeo"
           }
          ],
          "scattergl": [
           {
            "marker": {
             "colorbar": {
              "outlinewidth": 0,
              "ticks": ""
             }
            },
            "type": "scattergl"
           }
          ],
          "scattermapbox": [
           {
            "marker": {
             "colorbar": {
              "outlinewidth": 0,
              "ticks": ""
             }
            },
            "type": "scattermapbox"
           }
          ],
          "scatterpolar": [
           {
            "marker": {
             "colorbar": {
              "outlinewidth": 0,
              "ticks": ""
             }
            },
            "type": "scatterpolar"
           }
          ],
          "scatterpolargl": [
           {
            "marker": {
             "colorbar": {
              "outlinewidth": 0,
              "ticks": ""
             }
            },
            "type": "scatterpolargl"
           }
          ],
          "scatterternary": [
           {
            "marker": {
             "colorbar": {
              "outlinewidth": 0,
              "ticks": ""
             }
            },
            "type": "scatterternary"
           }
          ],
          "surface": [
           {
            "colorbar": {
             "outlinewidth": 0,
             "ticks": ""
            },
            "colorscale": [
             [
              0,
              "#0d0887"
             ],
             [
              0.1111111111111111,
              "#46039f"
             ],
             [
              0.2222222222222222,
              "#7201a8"
             ],
             [
              0.3333333333333333,
              "#9c179e"
             ],
             [
              0.4444444444444444,
              "#bd3786"
             ],
             [
              0.5555555555555556,
              "#d8576b"
             ],
             [
              0.6666666666666666,
              "#ed7953"
             ],
             [
              0.7777777777777778,
              "#fb9f3a"
             ],
             [
              0.8888888888888888,
              "#fdca26"
             ],
             [
              1,
              "#f0f921"
             ]
            ],
            "type": "surface"
           }
          ],
          "table": [
           {
            "cells": {
             "fill": {
              "color": "#EBF0F8"
             },
             "line": {
              "color": "white"
             }
            },
            "header": {
             "fill": {
              "color": "#C8D4E3"
             },
             "line": {
              "color": "white"
             }
            },
            "type": "table"
           }
          ]
         },
         "layout": {
          "annotationdefaults": {
           "arrowcolor": "#2a3f5f",
           "arrowhead": 0,
           "arrowwidth": 1
          },
          "autotypenumbers": "strict",
          "coloraxis": {
           "colorbar": {
            "outlinewidth": 0,
            "ticks": ""
           }
          },
          "colorscale": {
           "diverging": [
            [
             0,
             "#8e0152"
            ],
            [
             0.1,
             "#c51b7d"
            ],
            [
             0.2,
             "#de77ae"
            ],
            [
             0.3,
             "#f1b6da"
            ],
            [
             0.4,
             "#fde0ef"
            ],
            [
             0.5,
             "#f7f7f7"
            ],
            [
             0.6,
             "#e6f5d0"
            ],
            [
             0.7,
             "#b8e186"
            ],
            [
             0.8,
             "#7fbc41"
            ],
            [
             0.9,
             "#4d9221"
            ],
            [
             1,
             "#276419"
            ]
           ],
           "sequential": [
            [
             0,
             "#0d0887"
            ],
            [
             0.1111111111111111,
             "#46039f"
            ],
            [
             0.2222222222222222,
             "#7201a8"
            ],
            [
             0.3333333333333333,
             "#9c179e"
            ],
            [
             0.4444444444444444,
             "#bd3786"
            ],
            [
             0.5555555555555556,
             "#d8576b"
            ],
            [
             0.6666666666666666,
             "#ed7953"
            ],
            [
             0.7777777777777778,
             "#fb9f3a"
            ],
            [
             0.8888888888888888,
             "#fdca26"
            ],
            [
             1,
             "#f0f921"
            ]
           ],
           "sequentialminus": [
            [
             0,
             "#0d0887"
            ],
            [
             0.1111111111111111,
             "#46039f"
            ],
            [
             0.2222222222222222,
             "#7201a8"
            ],
            [
             0.3333333333333333,
             "#9c179e"
            ],
            [
             0.4444444444444444,
             "#bd3786"
            ],
            [
             0.5555555555555556,
             "#d8576b"
            ],
            [
             0.6666666666666666,
             "#ed7953"
            ],
            [
             0.7777777777777778,
             "#fb9f3a"
            ],
            [
             0.8888888888888888,
             "#fdca26"
            ],
            [
             1,
             "#f0f921"
            ]
           ]
          },
          "colorway": [
           "#636efa",
           "#EF553B",
           "#00cc96",
           "#ab63fa",
           "#FFA15A",
           "#19d3f3",
           "#FF6692",
           "#B6E880",
           "#FF97FF",
           "#FECB52"
          ],
          "font": {
           "color": "#2a3f5f"
          },
          "geo": {
           "bgcolor": "white",
           "lakecolor": "white",
           "landcolor": "#E5ECF6",
           "showlakes": true,
           "showland": true,
           "subunitcolor": "white"
          },
          "hoverlabel": {
           "align": "left"
          },
          "hovermode": "closest",
          "mapbox": {
           "style": "light"
          },
          "paper_bgcolor": "white",
          "plot_bgcolor": "#E5ECF6",
          "polar": {
           "angularaxis": {
            "gridcolor": "white",
            "linecolor": "white",
            "ticks": ""
           },
           "bgcolor": "#E5ECF6",
           "radialaxis": {
            "gridcolor": "white",
            "linecolor": "white",
            "ticks": ""
           }
          },
          "scene": {
           "xaxis": {
            "backgroundcolor": "#E5ECF6",
            "gridcolor": "white",
            "gridwidth": 2,
            "linecolor": "white",
            "showbackground": true,
            "ticks": "",
            "zerolinecolor": "white"
           },
           "yaxis": {
            "backgroundcolor": "#E5ECF6",
            "gridcolor": "white",
            "gridwidth": 2,
            "linecolor": "white",
            "showbackground": true,
            "ticks": "",
            "zerolinecolor": "white"
           },
           "zaxis": {
            "backgroundcolor": "#E5ECF6",
            "gridcolor": "white",
            "gridwidth": 2,
            "linecolor": "white",
            "showbackground": true,
            "ticks": "",
            "zerolinecolor": "white"
           }
          },
          "shapedefaults": {
           "line": {
            "color": "#2a3f5f"
           }
          },
          "ternary": {
           "aaxis": {
            "gridcolor": "white",
            "linecolor": "white",
            "ticks": ""
           },
           "baxis": {
            "gridcolor": "white",
            "linecolor": "white",
            "ticks": ""
           },
           "bgcolor": "#E5ECF6",
           "caxis": {
            "gridcolor": "white",
            "linecolor": "white",
            "ticks": ""
           }
          },
          "title": {
           "x": 0.05
          },
          "xaxis": {
           "automargin": true,
           "gridcolor": "white",
           "linecolor": "white",
           "ticks": "",
           "title": {
            "standoff": 15
           },
           "zerolinecolor": "white",
           "zerolinewidth": 2
          },
          "yaxis": {
           "automargin": true,
           "gridcolor": "white",
           "linecolor": "white",
           "ticks": "",
           "title": {
            "standoff": 15
           },
           "zerolinecolor": "white",
           "zerolinewidth": 2
          }
         }
        },
        "title": {
         "text": "Correct class: 1, Prediction probability: 1.0, Time interval: 0 to 400, Channel: 8"
        },
        "width": 1600,
        "yaxis": {
         "range": [
          -1,
          1
         ]
        }
       }
      },
      "text/html": [
       "<div>                            <div id=\"fa7e4847-03f1-4466-95cd-c527db2ad9ba\" class=\"plotly-graph-div\" style=\"height:700px; width:1600px;\"></div>            <script type=\"text/javascript\">                require([\"plotly\"], function(Plotly) {                    window.PLOTLYENV=window.PLOTLYENV || {};                                    if (document.getElementById(\"fa7e4847-03f1-4466-95cd-c527db2ad9ba\")) {                    Plotly.newPlot(                        \"fa7e4847-03f1-4466-95cd-c527db2ad9ba\",                        [{\"mode\": \"lines\", \"name\": \"Raw signal\", \"type\": \"scatter\", \"x\": [0, 1, 2, 3, 4, 5, 6, 7, 8, 9, 10, 11, 12, 13, 14, 15, 16, 17, 18, 19, 20, 21, 22, 23, 24, 25, 26, 27, 28, 29, 30, 31, 32, 33, 34, 35, 36, 37, 38, 39, 40, 41, 42, 43, 44, 45, 46, 47, 48, 49, 50, 51, 52, 53, 54, 55, 56, 57, 58, 59, 60, 61, 62, 63, 64, 65, 66, 67, 68, 69, 70, 71, 72, 73, 74, 75, 76, 77, 78, 79, 80, 81, 82, 83, 84, 85, 86, 87, 88, 89, 90, 91, 92, 93, 94, 95, 96, 97, 98, 99, 100, 101, 102, 103, 104, 105, 106, 107, 108, 109, 110, 111, 112, 113, 114, 115, 116, 117, 118, 119, 120, 121, 122, 123, 124, 125, 126, 127, 128, 129, 130, 131, 132, 133, 134, 135, 136, 137, 138, 139, 140, 141, 142, 143, 144, 145, 146, 147, 148, 149, 150, 151, 152, 153, 154, 155, 156, 157, 158, 159, 160, 161, 162, 163, 164, 165, 166, 167, 168, 169, 170, 171, 172, 173, 174, 175, 176, 177, 178, 179, 180, 181, 182, 183, 184, 185, 186, 187, 188, 189, 190, 191, 192, 193, 194, 195, 196, 197, 198, 199, 200, 201, 202, 203, 204, 205, 206, 207, 208, 209, 210, 211, 212, 213, 214, 215, 216, 217, 218, 219, 220, 221, 222, 223, 224, 225, 226, 227, 228, 229, 230, 231, 232, 233, 234, 235, 236, 237, 238, 239, 240, 241, 242, 243, 244, 245, 246, 247, 248, 249, 250, 251, 252, 253, 254, 255, 256, 257, 258, 259, 260, 261, 262, 263, 264, 265, 266, 267, 268, 269, 270, 271, 272, 273, 274, 275, 276, 277, 278, 279, 280, 281, 282, 283, 284, 285, 286, 287, 288, 289, 290, 291, 292, 293, 294, 295, 296, 297, 298, 299, 300, 301, 302, 303, 304, 305, 306, 307, 308, 309, 310, 311, 312, 313, 314, 315, 316, 317, 318, 319, 320, 321, 322, 323, 324, 325, 326, 327, 328, 329, 330, 331, 332, 333, 334, 335, 336, 337, 338, 339, 340, 341, 342, 343, 344, 345, 346, 347, 348, 349, 350, 351, 352, 353, 354, 355, 356, 357, 358, 359, 360, 361, 362, 363, 364, 365, 366, 367, 368, 369, 370, 371, 372, 373, 374, 375, 376, 377, 378, 379, 380, 381, 382, 383, 384, 385, 386, 387, 388, 389, 390, 391, 392, 393, 394, 395, 396, 397, 398, 399], \"y\": [0.024, 0.026, 0.024, 0.02, 0.02, 0.034, 0.086, 0.139, 0.256, 0.289, 0.442, 0.656, 0.818, 1.421, 1.138, 0.138, -0.038, -0.068, -0.092, -0.063, -0.085, -0.068, -0.127, -0.139, -0.147, -0.161, -0.18, -0.188, -0.195, -0.222, -0.236, -0.265, -0.292, -0.315, -0.354, -0.383, -0.404, -0.426, -0.422, -0.381, -0.328, -0.266, -0.181, -0.106, -0.05, -0.011, 0.002, 0.006, 0.011, 0.015, 0.02, 0.016, 0.015, 0.015, 0.015, 0.015, 0.016, 0.025, 0.027, 0.024, 0.022, 0.018, 0.016, 0.014, 0.01, 0.01, 0.01, 0.01, 0.01, 0.006, 0.005, 0.005, 0.001, -0.001, 0.002, 0.005, 0.005, 0.005, 0.005, 0.005, 0.001, 0.0, 0.0, -0.005, -0.005, -0.005, -0.005, -0.005, -0.005, -0.005, -0.009, -0.017, -0.019, -0.015, -0.015, -0.015, -0.015, -0.016, -0.011, -0.004, 0.002, 0.009, 0.016, 0.019, 0.006, -0.01, -0.02, -0.037, -0.022, -0.038, -0.017, -0.031, -0.022, -0.013, -0.036, 0.084, 0.146, 0.541, 0.169, -0.606, -0.242, -0.046, -0.072, -0.031, -0.062, -0.026, -0.046, -0.025, -0.03, -0.022, -0.016, -0.015, -0.006, -0.006, 0.002, 0.006, 0.017, 0.024, 0.033, 0.055, 0.07, 0.092, 0.108, 0.123, 0.133, 0.129, 0.146, 0.162, 0.169, 0.148, 0.101, 0.061, 0.019, -0.012, -0.019, -0.029, -0.034, -0.029, -0.031, -0.027, -0.025, -0.025, -0.021, -0.02, -0.02, -0.016, -0.014, -0.017, -0.019, -0.024, -0.023, -0.037, -0.061, -0.059, -0.061, -0.065, -0.065, -0.063, -0.056, -0.052, -0.045, -0.04, -0.036, -0.027, -0.021, -0.007, -0.013, -0.033, -0.055, -0.046, -0.054, -0.056, -0.049, -0.064, -0.019, -0.056, 0.06, 0.093, 0.411, 0.482, -0.457, -0.463, -0.056, -0.088, -0.016, -0.049, -0.024, -0.027, -0.025, -0.012, -0.019, -0.028, -0.037, -0.024, -0.025, -0.017, -0.008, 0.004, 0.022, 0.04, 0.052, 0.081, 0.111, 0.132, 0.151, 0.178, 0.199, 0.191, 0.183, 0.172, 0.136, 0.094, 0.058, 0.02, -0.016, -0.043, -0.053, -0.044, -0.004, 0.035, 0.128, 0.286, 0.434, 0.677, 0.792, 0.993, 1.037, 0.318, -0.072, -0.081, -0.186, -0.148, -0.154, -0.113, -0.084, -0.112, -0.125, -0.136, -0.16, -0.187, -0.196, -0.214, -0.217, -0.238, -0.261, -0.269, -0.289, -0.307, -0.305, -0.288, -0.256, -0.204, -0.142, -0.077, -0.035, -0.02, -0.012, -0.008, -0.003, 0.002, 0.005, 0.0, -0.005, -0.008, -0.015, -0.01, -0.003, -0.015, -0.026, -0.038, -0.045, -0.044, -0.047, -0.045, -0.045, -0.044, -0.04, -0.04, -0.038, -0.035, -0.032, -0.029, -0.025, -0.025, -0.031, -0.029, -0.026, -0.023, -0.02, -0.019, -0.015, -0.013, -0.009, -0.007, -0.004, -0.009, -0.016, -0.02, -0.021, -0.017, -0.036, -0.035, -0.015, -0.014, -0.011, -0.008, -0.005, -0.005, 0.007, 0.012, 0.006, 0.005, 0.0, -0.001, -0.004, -0.009, -0.012, -0.015, -0.02, -0.017, -0.015, -0.015, -0.015, -0.034, -0.041, -0.032, -0.025, -0.021, -0.009, 0.0, -0.004, -0.02, -0.041, -0.03, -0.026, -0.012, -0.063, -0.028, -0.046, 0.005, 0.08, 0.177, 0.525, -0.145, -0.599, -0.137, -0.101, -0.058, -0.055, -0.065, -0.043, -0.061, -0.04, -0.052, -0.038, -0.042, -0.036, -0.034, -0.032, -0.019, -0.011, 0.0, 0.01, 0.015, 0.03, 0.051, 0.066, 0.08, 0.1, 0.121, 0.127, 0.133, 0.128, 0.118, 0.11, 0.1, 0.087, 0.05, 0.027, 0.024]}, {\"marker\": {\"size\": 4}, \"mode\": \"lines+markers\", \"name\": \"Raw CAM\", \"type\": \"scatter\", \"x\": [0, 1, 2, 3, 4, 5, 6, 7, 8, 9, 10, 11, 12, 13, 14, 15, 16, 17, 18, 19, 20, 21, 22, 23, 24, 25, 26, 27, 28, 29, 30, 31, 32, 33, 34, 35, 36, 37, 38, 39, 40, 41, 42, 43, 44, 45, 46, 47, 48, 49, 50, 51, 52, 53, 54, 55, 56, 57, 58, 59, 60, 61, 62, 63, 64, 65, 66, 67, 68, 69, 70, 71, 72, 73, 74, 75, 76, 77, 78, 79, 80, 81, 82, 83, 84, 85, 86, 87, 88, 89, 90, 91, 92, 93, 94, 95, 96, 97, 98, 99, 100, 101, 102, 103, 104, 105, 106, 107, 108, 109, 110, 111, 112, 113, 114, 115, 116, 117, 118, 119, 120, 121, 122, 123, 124, 125, 126, 127, 128, 129, 130, 131, 132, 133, 134, 135, 136, 137, 138, 139, 140, 141, 142, 143, 144, 145, 146, 147, 148, 149, 150, 151, 152, 153, 154, 155, 156, 157, 158, 159, 160, 161, 162, 163, 164, 165, 166, 167, 168, 169, 170, 171, 172, 173, 174, 175, 176, 177, 178, 179, 180, 181, 182, 183, 184, 185, 186, 187, 188, 189, 190, 191, 192, 193, 194, 195, 196, 197, 198, 199, 200, 201, 202, 203, 204, 205, 206, 207, 208, 209, 210, 211, 212, 213, 214, 215, 216, 217, 218, 219, 220, 221, 222, 223, 224, 225, 226, 227, 228, 229, 230, 231, 232, 233, 234, 235, 236, 237, 238, 239, 240, 241, 242, 243, 244, 245, 246, 247, 248, 249, 250, 251, 252, 253, 254, 255, 256, 257, 258, 259, 260, 261, 262, 263, 264, 265, 266, 267, 268, 269, 270, 271, 272, 273, 274, 275, 276, 277, 278, 279, 280, 281, 282, 283, 284, 285, 286, 287, 288, 289, 290, 291, 292, 293, 294, 295, 296, 297, 298, 299, 300, 301, 302, 303, 304, 305, 306, 307, 308, 309, 310, 311, 312, 313, 314, 315, 316, 317, 318, 319, 320, 321, 322, 323, 324, 325, 326, 327, 328, 329, 330, 331, 332, 333, 334, 335, 336, 337, 338, 339, 340, 341, 342, 343, 344, 345, 346, 347, 348, 349, 350, 351, 352, 353, 354, 355, 356, 357, 358, 359, 360, 361, 362, 363, 364, 365, 366, 367, 368, 369, 370, 371, 372, 373, 374, 375, 376, 377, 378, 379, 380, 381, 382, 383, 384, 385, 386, 387, 388, 389, 390, 391, 392, 393, 394, 395, 396, 397, 398, 399], \"y\": [0.020256854593753815, 0.03474457189440727, 0.021439246833324432, 0.027163216844201088, 0.02248239330947399, 0.05176008120179176, 0.04209141060709953, 0.04212680086493492, 0.036212604492902756, 0.03971032425761223, 0.05339965224266052, 0.0705433115363121, 0.08119972795248032, 0.07195248454809189, 0.05093762278556824, 0.08901378512382507, 0.20090699195861816, 0.3339308500289917, 0.41859328746795654, 0.46009019017219543, 0.5047163367271423, 0.5585027933120728, 0.663582444190979, 0.7802262306213379, 0.8348401188850403, 0.8247156143188477, 0.8031734228134155, 0.7889806628227234, 0.777290403842926, 0.7762030959129333, 0.8141583204269409, 0.8381265997886658, 0.8604974746704102, 0.8067120313644409, 0.7299841046333313, 0.6554327607154846, 0.5596470832824707, 0.49581068754196167, 0.4843858778476715, 0.46148884296417236, 0.46882787346839905, 0.45516979694366455, 0.425913006067276, 0.3417884409427643, 0.2491389662027359, 0.1840798705816269, 0.15934762358665466, 0.1633877158164978, 0.1755800098180771, 0.18020647764205933, 0.17704609036445618, 0.17942538857460022, 0.16903087496757507, 0.12961828708648682, 0.07863904535770416, 0.03272390365600586, 0.014837125316262245, 0.028733501210808754, 0.02528809942305088, 0.005360864102840424, 0.0006725707789883018, 0.0, 0.0, 0.0272501353174448, 0.09200485795736313, 0.1341642141342163, 0.13744302093982697, 0.10076828300952911, 0.05120006203651428, 0.0194853488355875, 0.03370887413620949, 0.044987160712480545, 0.052040763199329376, 0.05707502365112305, 0.06054248660802841, 0.06309743225574493, 0.06461846828460693, 0.0653410479426384, 0.06521414965391159, 0.06409118324518204, 0.062216199934482574, 0.05965234711766243, 0.056609589606523514, 0.05360876023769379, 0.05162287503480911, 0.05064186826348305, 0.04997819662094116, 0.04956130310893059, 0.0489991120994091, 0.04822138696908951, 0.04847758635878563, 0.0488898791372776, 0.04912955313920975, 0.05042858421802521, 0.052507251501083374, 0.05562111362814903, 0.06018465757369995, 0.0647323876619339, 0.06877043098211288, 0.07142461091279984, 0.07260192930698395, 0.07250727713108063, 0.07157954573631287, 0.07032910734415054, 0.06906694173812866, 0.06795348227024078, 0.06687331944704056, 0.06551405787467957, 0.06334631145000458, 0.060143131762742996, 0.05630504712462425, 0.051859188824892044, 0.047000542283058167, 0.04332112893462181, 0.0419062003493309, 0.042921315878629684, 0.0456993505358696, 0.04764913395047188, 0.04146786034107208, 0.02356230840086937, 0.003542374586686492, 0.030699336901307106, 0.07911704480648041, 0.05812666565179825, 0.020053541287779808, 0.026584966108202934, 0.029753586277365685, 0.006120229605585337, 0.0, 0.0, 0.0, 0.0052037229761481285, 0.01163258496671915, 0.06603892147541046, 0.0761212557554245, 0.07381032407283783, 0.06340686231851578, 0.04228343069553375, 0.017872121185064316, 0.004268748685717583, 0.004156719893217087, 0.004300730302929878, 0.0032953207846730947, 0.0023439498618245125, 0.06367845088243484, 0.08997947722673416, 0.06313294917345047, 0.032894909381866455, 0.01972915418446064, 0.020963657647371292, 0.020309830084443092, 0.02142893709242344, 0.024738427251577377, 0.027243752032518387, 0.02797226421535015, 0.02930177003145218, 0.03306124359369278, 0.03394768387079239, 0.030794654041528702, 0.028765590861439705, 0.02586168795824051, 0.0226307213306427, 0.01513099204748869, 0.020101962611079216, 0.03691568598151207, 0.05313108116388321, 0.06411366909742355, 0.07289101183414459, 0.08063019067049026, 0.08920011669397354, 0.09675817936658859, 0.09922342747449875, 0.09897765517234802, 0.09491419792175293, 0.085472971200943, 0.07278331369161606, 0.06416554003953934, 0.05588918924331665, 0.059322599321603775, 0.05387396737933159, 0.05067965015769005, 0.04823673143982887, 0.04186061769723892, 0.037157393991947174, 0.032442837953567505, 0.02922956459224224, 0.029608923941850662, 0.03490690141916275, 0.03830219432711601, 0.03994854912161827, 0.04126397520303726, 0.042558956891298294, 0.04349552094936371, 0.04439505934715271, 0.04486820846796036, 0.04471550136804581, 0.0424376055598259, 0.04008512943983078, 0.03772870823740959, 0.03121981956064701, 0.017795836552977562, 0.007690568454563618, 0.027378516271710396, 0.05199793353676796, 0.03680509328842163, 0.017850926145911217, 0.029972581192851067, 0.03590058162808418, 0.025943344458937645, 0.003717204788699746, 0.0, 0.0022724431473761797, 0.0002873465127777308, 0.0010449999244883657, 0.06971157342195511, 0.07909885048866272, 0.07641653716564178, 0.07536514848470688, 0.047462426126003265, 0.02646193467080593, 0.0076524075120687485, 0.00540452916175127, 0.007176368962973356, 0.009041217155754566, 0.0019325108733028173, 0.01911964640021324, 0.07249242067337036, 0.06764855980873108, 0.05476837977766991, 0.056486353278160095, 0.06947330385446548, 0.08131497353315353, 0.08724887669086456, 0.08922017365694046, 0.0927167609333992, 0.09502463787794113, 0.09594924747943878, 0.09377708286046982, 0.08681919425725937, 0.07660024613142014, 0.061613503843545914, 0.045348674058914185, 0.031536225229501724, 0.018481511622667313, 0.0017019693041220307, 0.020868975669145584, 0.08605857938528061, 0.22862203419208527, 0.36545026302337646, 0.4577803909778595, 0.5124417543411255, 0.5161398649215698, 0.5517079830169678, 0.6607925295829773, 0.7872187495231628, 0.9126938581466675, 0.9497202634811401, 0.9377251267433167, 0.9029111862182617, 0.8704876899719238, 0.878086268901825, 0.8704882264137268, 0.8849726915359497, 0.8662377595901489, 0.8582366108894348, 0.7927864789962769, 0.7025955319404602, 0.6117026209831238, 0.5045880675315857, 0.39881688356399536, 0.3763359487056732, 0.3558163046836853, 0.3573114275932312, 0.39750704169273376, 0.3948284983634949, 0.34603744745254517, 0.24803079664707184, 0.17516149580478668, 0.1357990950345993, 0.11982949823141098, 0.11695639789104462, 0.11996052414178848, 0.11120575666427612, 0.09782510995864868, 0.07584331184625626, 0.06076621636748314, 0.06441241502761841, 0.07799294590950012, 0.0749206393957138, 0.059193868190050125, 0.037893954664468765, 0.016431258991360664, 0.0013933279551565647, 0.015024734660983086, 0.06634661555290222, 0.10382287949323654, 0.10709451884031296, 0.0780116617679596, 0.036772508174180984, 0.01303301565349102, 0.016465462744235992, 0.021702226251363754, 0.026923982426524162, 0.03093060664832592, 0.033800266683101654, 0.03677358105778694, 0.03947983309626579, 0.04274430871009827, 0.04687339439988136, 0.051531560719013214, 0.05588410422205925, 0.05933137238025665, 0.06156535819172859, 0.06290750205516815, 0.06400807946920395, 0.06436683982610703, 0.06523403525352478, 0.06694614142179489, 0.06876273453235626, 0.06910697370767593, 0.06792482733726501, 0.06588389724493027, 0.062499478459358215, 0.05847584828734398, 0.05487874150276184, 0.050655022263526917, 0.04634921997785568, 0.04387602210044861, 0.0421539768576622, 0.042011748999357224, 0.043129533529281616, 0.04501310735940933, 0.047051914036273956, 0.04877743497490883, 0.04992479830980301, 0.05002028867602348, 0.04964948073029518, 0.048224300146102905, 0.04660681635141373, 0.04443882033228874, 0.04195430129766464, 0.038832440972328186, 0.03551310673356056, 0.03240523487329483, 0.03201305866241455, 0.03269116207957268, 0.03379325941205025, 0.03610450401902199, 0.03838871046900749, 0.04072567820549011, 0.043152231723070145, 0.04537561535835266, 0.0473792664706707, 0.04902998358011246, 0.05028093606233597, 0.05054234713315964, 0.04985601082444191, 0.0484333373606205, 0.04709738492965698, 0.04612342640757561, 0.045840922743082047, 0.04700033366680145, 0.04614647105336189, 0.02825673669576645, 0.014823379926383495, 0.034547366201877594, 0.08533336222171783, 0.09819859266281128, 0.06673716753721237, 0.04812026768922806, 0.02901865541934967, 0.02901085838675499, 0.008501320146024227, 0.0, 0.000955070136114955, 0.0, 0.0037830043584108353, 0.048673391342163086, 0.07314921915531158, 0.07769065350294113, 0.07689978927373886, 0.055833037942647934, 0.037222910672426224, 0.014798512682318687, 0.006009506527334452, 0.0038672899827361107, 0.004673538263887167, 0.017449691891670227, 0.06883712112903595, 0.1122918576002121, 0.10568873584270477, 0.07280899584293365, 0.0403410866856575, 0.03713974356651306, 0.05006279796361923, 0.05924483388662338, 0.06932983547449112, 0.07883060723543167, 0.08505913615226746, 0.08920097351074219]}],                        {\"font\": {\"size\": 20}, \"height\": 700, \"paper_bgcolor\": \"rgba(0,0,0,0)\", \"plot_bgcolor\": \"rgba(0,0,0,0)\", \"shapes\": [{\"fillcolor\": \"pink\", \"layer\": \"below\", \"line\": {\"width\": 0}, \"opacity\": 0.5, \"type\": \"rect\", \"x0\": 20, \"x1\": 37, \"xref\": \"x\", \"y0\": -1.225, \"y1\": 2.72, \"yref\": \"y\"}, {\"fillcolor\": \"pink\", \"layer\": \"below\", \"line\": {\"width\": 0}, \"opacity\": 0.5, \"type\": \"rect\", \"x0\": 250, \"x1\": 268, \"xref\": \"x\", \"y0\": -1.225, \"y1\": 2.72, \"yref\": \"y\"}], \"template\": {\"data\": {\"bar\": [{\"error_x\": {\"color\": \"#2a3f5f\"}, \"error_y\": {\"color\": \"#2a3f5f\"}, \"marker\": {\"line\": {\"color\": \"#E5ECF6\", \"width\": 0.5}}, \"type\": \"bar\"}], \"barpolar\": [{\"marker\": {\"line\": {\"color\": \"#E5ECF6\", \"width\": 0.5}}, \"type\": \"barpolar\"}], \"carpet\": [{\"aaxis\": {\"endlinecolor\": \"#2a3f5f\", \"gridcolor\": \"white\", \"linecolor\": \"white\", \"minorgridcolor\": \"white\", \"startlinecolor\": \"#2a3f5f\"}, \"baxis\": {\"endlinecolor\": \"#2a3f5f\", \"gridcolor\": \"white\", \"linecolor\": \"white\", \"minorgridcolor\": \"white\", \"startlinecolor\": \"#2a3f5f\"}, \"type\": \"carpet\"}], \"choropleth\": [{\"colorbar\": {\"outlinewidth\": 0, \"ticks\": \"\"}, \"type\": \"choropleth\"}], \"contour\": [{\"colorbar\": {\"outlinewidth\": 0, \"ticks\": \"\"}, \"colorscale\": [[0.0, \"#0d0887\"], [0.1111111111111111, \"#46039f\"], [0.2222222222222222, \"#7201a8\"], [0.3333333333333333, \"#9c179e\"], [0.4444444444444444, \"#bd3786\"], [0.5555555555555556, \"#d8576b\"], [0.6666666666666666, \"#ed7953\"], [0.7777777777777778, \"#fb9f3a\"], [0.8888888888888888, \"#fdca26\"], [1.0, \"#f0f921\"]], \"type\": \"contour\"}], \"contourcarpet\": [{\"colorbar\": {\"outlinewidth\": 0, \"ticks\": \"\"}, \"type\": \"contourcarpet\"}], \"heatmap\": [{\"colorbar\": {\"outlinewidth\": 0, \"ticks\": \"\"}, \"colorscale\": [[0.0, \"#0d0887\"], [0.1111111111111111, \"#46039f\"], [0.2222222222222222, \"#7201a8\"], [0.3333333333333333, \"#9c179e\"], [0.4444444444444444, \"#bd3786\"], [0.5555555555555556, \"#d8576b\"], [0.6666666666666666, \"#ed7953\"], [0.7777777777777778, \"#fb9f3a\"], [0.8888888888888888, \"#fdca26\"], [1.0, \"#f0f921\"]], \"type\": \"heatmap\"}], \"heatmapgl\": [{\"colorbar\": {\"outlinewidth\": 0, \"ticks\": \"\"}, \"colorscale\": [[0.0, \"#0d0887\"], [0.1111111111111111, \"#46039f\"], [0.2222222222222222, \"#7201a8\"], [0.3333333333333333, \"#9c179e\"], [0.4444444444444444, \"#bd3786\"], [0.5555555555555556, \"#d8576b\"], [0.6666666666666666, \"#ed7953\"], [0.7777777777777778, \"#fb9f3a\"], [0.8888888888888888, \"#fdca26\"], [1.0, \"#f0f921\"]], \"type\": \"heatmapgl\"}], \"histogram\": [{\"marker\": {\"colorbar\": {\"outlinewidth\": 0, \"ticks\": \"\"}}, \"type\": \"histogram\"}], \"histogram2d\": [{\"colorbar\": {\"outlinewidth\": 0, \"ticks\": \"\"}, \"colorscale\": [[0.0, \"#0d0887\"], [0.1111111111111111, \"#46039f\"], [0.2222222222222222, \"#7201a8\"], [0.3333333333333333, \"#9c179e\"], [0.4444444444444444, \"#bd3786\"], [0.5555555555555556, \"#d8576b\"], [0.6666666666666666, \"#ed7953\"], [0.7777777777777778, \"#fb9f3a\"], [0.8888888888888888, \"#fdca26\"], [1.0, \"#f0f921\"]], \"type\": \"histogram2d\"}], \"histogram2dcontour\": [{\"colorbar\": {\"outlinewidth\": 0, \"ticks\": \"\"}, \"colorscale\": [[0.0, \"#0d0887\"], [0.1111111111111111, \"#46039f\"], [0.2222222222222222, \"#7201a8\"], [0.3333333333333333, \"#9c179e\"], [0.4444444444444444, \"#bd3786\"], [0.5555555555555556, \"#d8576b\"], [0.6666666666666666, \"#ed7953\"], [0.7777777777777778, \"#fb9f3a\"], [0.8888888888888888, \"#fdca26\"], [1.0, \"#f0f921\"]], \"type\": \"histogram2dcontour\"}], \"mesh3d\": [{\"colorbar\": {\"outlinewidth\": 0, \"ticks\": \"\"}, \"type\": \"mesh3d\"}], \"parcoords\": [{\"line\": {\"colorbar\": {\"outlinewidth\": 0, \"ticks\": \"\"}}, \"type\": \"parcoords\"}], \"pie\": [{\"automargin\": true, \"type\": \"pie\"}], \"scatter\": [{\"marker\": {\"colorbar\": {\"outlinewidth\": 0, \"ticks\": \"\"}}, \"type\": \"scatter\"}], \"scatter3d\": [{\"line\": {\"colorbar\": {\"outlinewidth\": 0, \"ticks\": \"\"}}, \"marker\": {\"colorbar\": {\"outlinewidth\": 0, \"ticks\": \"\"}}, \"type\": \"scatter3d\"}], \"scattercarpet\": [{\"marker\": {\"colorbar\": {\"outlinewidth\": 0, \"ticks\": \"\"}}, \"type\": \"scattercarpet\"}], \"scattergeo\": [{\"marker\": {\"colorbar\": {\"outlinewidth\": 0, \"ticks\": \"\"}}, \"type\": \"scattergeo\"}], \"scattergl\": [{\"marker\": {\"colorbar\": {\"outlinewidth\": 0, \"ticks\": \"\"}}, \"type\": \"scattergl\"}], \"scattermapbox\": [{\"marker\": {\"colorbar\": {\"outlinewidth\": 0, \"ticks\": \"\"}}, \"type\": \"scattermapbox\"}], \"scatterpolar\": [{\"marker\": {\"colorbar\": {\"outlinewidth\": 0, \"ticks\": \"\"}}, \"type\": \"scatterpolar\"}], \"scatterpolargl\": [{\"marker\": {\"colorbar\": {\"outlinewidth\": 0, \"ticks\": \"\"}}, \"type\": \"scatterpolargl\"}], \"scatterternary\": [{\"marker\": {\"colorbar\": {\"outlinewidth\": 0, \"ticks\": \"\"}}, \"type\": \"scatterternary\"}], \"surface\": [{\"colorbar\": {\"outlinewidth\": 0, \"ticks\": \"\"}, \"colorscale\": [[0.0, \"#0d0887\"], [0.1111111111111111, \"#46039f\"], [0.2222222222222222, \"#7201a8\"], [0.3333333333333333, \"#9c179e\"], [0.4444444444444444, \"#bd3786\"], [0.5555555555555556, \"#d8576b\"], [0.6666666666666666, \"#ed7953\"], [0.7777777777777778, \"#fb9f3a\"], [0.8888888888888888, \"#fdca26\"], [1.0, \"#f0f921\"]], \"type\": \"surface\"}], \"table\": [{\"cells\": {\"fill\": {\"color\": \"#EBF0F8\"}, \"line\": {\"color\": \"white\"}}, \"header\": {\"fill\": {\"color\": \"#C8D4E3\"}, \"line\": {\"color\": \"white\"}}, \"type\": \"table\"}]}, \"layout\": {\"annotationdefaults\": {\"arrowcolor\": \"#2a3f5f\", \"arrowhead\": 0, \"arrowwidth\": 1}, \"autotypenumbers\": \"strict\", \"coloraxis\": {\"colorbar\": {\"outlinewidth\": 0, \"ticks\": \"\"}}, \"colorscale\": {\"diverging\": [[0, \"#8e0152\"], [0.1, \"#c51b7d\"], [0.2, \"#de77ae\"], [0.3, \"#f1b6da\"], [0.4, \"#fde0ef\"], [0.5, \"#f7f7f7\"], [0.6, \"#e6f5d0\"], [0.7, \"#b8e186\"], [0.8, \"#7fbc41\"], [0.9, \"#4d9221\"], [1, \"#276419\"]], \"sequential\": [[0.0, \"#0d0887\"], [0.1111111111111111, \"#46039f\"], [0.2222222222222222, \"#7201a8\"], [0.3333333333333333, \"#9c179e\"], [0.4444444444444444, \"#bd3786\"], [0.5555555555555556, \"#d8576b\"], [0.6666666666666666, \"#ed7953\"], [0.7777777777777778, \"#fb9f3a\"], [0.8888888888888888, \"#fdca26\"], [1.0, \"#f0f921\"]], \"sequentialminus\": [[0.0, \"#0d0887\"], [0.1111111111111111, \"#46039f\"], [0.2222222222222222, \"#7201a8\"], [0.3333333333333333, \"#9c179e\"], [0.4444444444444444, \"#bd3786\"], [0.5555555555555556, \"#d8576b\"], [0.6666666666666666, \"#ed7953\"], [0.7777777777777778, \"#fb9f3a\"], [0.8888888888888888, \"#fdca26\"], [1.0, \"#f0f921\"]]}, \"colorway\": [\"#636efa\", \"#EF553B\", \"#00cc96\", \"#ab63fa\", \"#FFA15A\", \"#19d3f3\", \"#FF6692\", \"#B6E880\", \"#FF97FF\", \"#FECB52\"], \"font\": {\"color\": \"#2a3f5f\"}, \"geo\": {\"bgcolor\": \"white\", \"lakecolor\": \"white\", \"landcolor\": \"#E5ECF6\", \"showlakes\": true, \"showland\": true, \"subunitcolor\": \"white\"}, \"hoverlabel\": {\"align\": \"left\"}, \"hovermode\": \"closest\", \"mapbox\": {\"style\": \"light\"}, \"paper_bgcolor\": \"white\", \"plot_bgcolor\": \"#E5ECF6\", \"polar\": {\"angularaxis\": {\"gridcolor\": \"white\", \"linecolor\": \"white\", \"ticks\": \"\"}, \"bgcolor\": \"#E5ECF6\", \"radialaxis\": {\"gridcolor\": \"white\", \"linecolor\": \"white\", \"ticks\": \"\"}}, \"scene\": {\"xaxis\": {\"backgroundcolor\": \"#E5ECF6\", \"gridcolor\": \"white\", \"gridwidth\": 2, \"linecolor\": \"white\", \"showbackground\": true, \"ticks\": \"\", \"zerolinecolor\": \"white\"}, \"yaxis\": {\"backgroundcolor\": \"#E5ECF6\", \"gridcolor\": \"white\", \"gridwidth\": 2, \"linecolor\": \"white\", \"showbackground\": true, \"ticks\": \"\", \"zerolinecolor\": \"white\"}, \"zaxis\": {\"backgroundcolor\": \"#E5ECF6\", \"gridcolor\": \"white\", \"gridwidth\": 2, \"linecolor\": \"white\", \"showbackground\": true, \"ticks\": \"\", \"zerolinecolor\": \"white\"}}, \"shapedefaults\": {\"line\": {\"color\": \"#2a3f5f\"}}, \"ternary\": {\"aaxis\": {\"gridcolor\": \"white\", \"linecolor\": \"white\", \"ticks\": \"\"}, \"baxis\": {\"gridcolor\": \"white\", \"linecolor\": \"white\", \"ticks\": \"\"}, \"bgcolor\": \"#E5ECF6\", \"caxis\": {\"gridcolor\": \"white\", \"linecolor\": \"white\", \"ticks\": \"\"}}, \"title\": {\"x\": 0.05}, \"xaxis\": {\"automargin\": true, \"gridcolor\": \"white\", \"linecolor\": \"white\", \"ticks\": \"\", \"title\": {\"standoff\": 15}, \"zerolinecolor\": \"white\", \"zerolinewidth\": 2}, \"yaxis\": {\"automargin\": true, \"gridcolor\": \"white\", \"linecolor\": \"white\", \"ticks\": \"\", \"title\": {\"standoff\": 15}, \"zerolinecolor\": \"white\", \"zerolinewidth\": 2}}}, \"title\": {\"text\": \"Correct class: 1, Prediction probability: 1.0, Time interval: 0 to 400, Channel: 8\"}, \"width\": 1600, \"yaxis\": {\"range\": [-1, 1]}},                        {\"responsive\": true}                    ).then(function(){\n",
       "                            \n",
       "var gd = document.getElementById('fa7e4847-03f1-4466-95cd-c527db2ad9ba');\n",
       "var x = new MutationObserver(function (mutations, observer) {{\n",
       "        var display = window.getComputedStyle(gd).display;\n",
       "        if (!display || display === 'none') {{\n",
       "            console.log([gd, 'removed!']);\n",
       "            Plotly.purge(gd);\n",
       "            observer.disconnect();\n",
       "        }}\n",
       "}});\n",
       "\n",
       "// Listen for the removal of the full notebook cells\n",
       "var notebookContainer = gd.closest('#notebook-container');\n",
       "if (notebookContainer) {{\n",
       "    x.observe(notebookContainer, {childList: true});\n",
       "}}\n",
       "\n",
       "// Listen for the clearing of the current output cell\n",
       "var outputEl = gd.closest('.output');\n",
       "if (outputEl) {{\n",
       "    x.observe(outputEl, {childList: true});\n",
       "}}\n",
       "\n",
       "                        })                };                });            </script>        </div>"
      ]
     },
     "metadata": {},
     "output_type": "display_data"
    }
   ],
   "source": [
    "fig = go.Figure([\n",
    "    go.Scatter(x=np.arange(S,E,1), y=raw_input[:,C].T.squeeze()[S:E],\n",
    "                    mode='lines',\n",
    "                    name='Raw signal'),\n",
    "    \n",
    "    go.Scatter(x=np.arange(S,E,1),\n",
    "                         y=cam.squeeze()[S:E],\n",
    "                         marker=dict(size=4),\n",
    "                    mode='lines+markers',\n",
    "                    name='Raw CAM',\n",
    ")])\n",
    "\n",
    "cam90Pos = returnPos(np.where(cam_90==1)[0][(np.where(cam_90==1)[0]<=E) & (np.where(cam_90==1)[0]>=S)])\n",
    "shapeDic = []\n",
    "for i in cam90Pos:\n",
    "    shapeDic.append(\n",
    "        dict(type=\"rect\",xref=\"x\", yref=\"y\", x0=i[0], x1=i[1],\n",
    "         y0=np.min(raw_input.squeeze()), y1=max(np.max(raw_input), np.max(cam.flatten())),\n",
    "         fillcolor=\"pink\", opacity=0.5, line_width=0,layer=\"below\")\n",
    "    )\n",
    "\n",
    "fig[\"layout\"][\"shapes\"]=shapeDic\n",
    "fig.update_layout(\n",
    "    title=title,\n",
    "    font=dict(size=20),\n",
    "    width=1600,\n",
    "    height=700,\n",
    "    yaxis_range=[-1,1],\n",
    "    paper_bgcolor='rgba(0,0,0,0)',\n",
    "    plot_bgcolor='rgba(0,0,0,0)'\n",
    ")\n",
    "fig.show()"
   ]
  },
  {
   "cell_type": "code",
   "execution_count": 142,
   "metadata": {},
   "outputs": [],
   "source": [
    "fig.write_image(\"images/ecg_cam.png\")"
   ]
  },
  {
   "cell_type": "code",
   "execution_count": null,
   "metadata": {},
   "outputs": [],
   "source": []
  }
 ],
 "metadata": {
  "kernelspec": {
   "display_name": "Python 3",
   "language": "python",
   "name": "python3"
  },
  "language_info": {
   "codemirror_mode": {
    "name": "ipython",
    "version": 3
   },
   "file_extension": ".py",
   "mimetype": "text/x-python",
   "name": "python",
   "nbconvert_exporter": "python",
   "pygments_lexer": "ipython3",
   "version": "3.7.6"
  }
 },
 "nbformat": 4,
 "nbformat_minor": 4
}
